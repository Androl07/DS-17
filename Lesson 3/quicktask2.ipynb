{
 "cells":[
  {
   "cell_type":"code",
   "source":[
    "a = str(input(\"Введіть стрічку:\"))\n",
    "\n",
    "print(\"1. Третій символ:\", a[2])\n",
    "print(\"2. Передостанній символ:\", a[-2])\n",
    "print(\"3. Перші п'ять символів:\", a[0 : 5])\n",
    "print(\"4. Весь рядок, крім останніх двох символів:\", a[0:len(a) - 2])\n",
    "print(\"5. Всі символи з парними індексами :\", a[0 : len(a) : 2])\n",
    "print(\"6. Всі символи з непарними індексами :\", a[1 : len(a) : 2])\n",
    "\n",
    "word = ''\n",
    "for i in range(len(a)):\n",
    "    b = a[len(a) - i - 1]\n",
    "    word = word + b\n",
    "print(\"7. Всі символи у зворотньому порядку:\", word)\n",
    "print(\"8. Всі символи у зворотньому порядку, починаючи з останнього:\", word[0 : len(word) : 2])\n",
    "print(\"9. Довжина новоутвореної стрічки:\", len(word[0 : len(word) : 2]))"
   ],
   "execution_count":27,
   "outputs":[
    {
     "name":"stdout",
     "text":[
      "Введіть стрічку: qwerty\n",
      "1. Третій символ: e\n",
      "2. Передостанній символ: t\n",
      "3. Перші п'ять символів: qwert\n",
      "4. Весь рядок, крім останніх двох символів: qwer\n",
      "5. Всі символи з парними індексами : qet\n",
      "6. Всі символи з непарними індексами : wry\n",
      "7. Всі символи у зворотньому порядку: ytrewq\n",
      "8. Всі символи у зворотньому порядку, починаючи з останнього: yrw\n",
      "9. Довжина новоутвореної стрічки: 3\n"
     ],
     "output_type":"stream"
    }
   ],
   "metadata":{
    "datalore":{
     "node_id":"7jbbjK6lyVCEUkNQFNOZZs",
     "type":"CODE",
     "hide_input_from_viewers":false,
     "hide_output_from_viewers":false
    }
   }
  }
 ],
 "metadata":{
  "kernelspec":{
   "display_name":"Python",
   "language":"python",
   "name":"python"
  },
  "datalore":{
   "version":1,
   "computation_mode":"JUPYTER",
   "package_manager":"pip",
   "base_environment":"default",
   "packages":[
    
   ]
  }
 },
 "nbformat":4,
 "nbformat_minor":4
}