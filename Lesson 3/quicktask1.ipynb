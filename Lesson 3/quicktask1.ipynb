{
 "cells":[
  {
   "cell_type":"code",
   "source":[
    "#1.1\n",
    "a = float(input(\"Введіть перше число:\"))\n",
    "b = float(input(\"Введіть друге число:\"))\n",
    "a, b = b, a\n",
    "print(\"Число a =\", a)\n",
    "print(\"Число b =\", b)"
   ],
   "execution_count":24,
   "outputs":[
    {
     "name":"stdout",
     "text":[
      "Введіть перше число 2\n",
      "Введіть друге число 3\n",
      "Число a = 3.0\n",
      "Число b = 2.0\n"
     ],
     "output_type":"stream"
    }
   ],
   "metadata":{
    "datalore":{
     "node_id":"P2tvNILhFrOj3ifwfl6Z6m",
     "type":"CODE",
     "hide_input_from_viewers":false,
     "hide_output_from_viewers":false
    }
   }
  },
  {
   "cell_type":"code",
   "source":[
    "#1.2\n",
    "a = float(input(\"Введіть перше число:\"))\n",
    "b = float(input(\"Введіть друге число:\"))\n",
    "c = a\n",
    "a = b\n",
    "b = c\n",
    "print(\"Число a =\", a)\n",
    "print(\"Число b =\", b)"
   ],
   "execution_count":46,
   "outputs":[
    {
     "name":"stdout",
     "text":[
      "Введіть перше число 0\n",
      "Введіть друге число 9\n",
      "Число a = 9.0\n",
      "Число b = 0.0\n"
     ],
     "output_type":"stream"
    }
   ],
   "metadata":{
    "datalore":{
     "node_id":"nfVlogTdW5wHzRJi0DJxG4",
     "type":"CODE",
     "hide_input_from_viewers":false,
     "hide_output_from_viewers":false
    }
   }
  },
  {
   "cell_type":"code",
   "source":[
    "#1.3\n",
    "a = float(input(\"Введіть перше число:\"))\n",
    "b = float(input(\"Введіть друге число:\"))\n",
    "a = a + b\n",
    "b = a - b\n",
    "a = a - b\n",
    "print(\"Число a =\", a)\n",
    "print(\"Число b =\", b)"
   ],
   "execution_count":56,
   "outputs":[
    {
     "name":"stdout",
     "text":[
      "Введіть перше число: 2\n",
      "Введіть друге число: 7\n",
      "Число a = 7.0\n",
      "Число b = 2.0\n"
     ],
     "output_type":"stream"
    }
   ],
   "metadata":{
    "datalore":{
     "node_id":"9qhJiflf6DFKqywFburPpr",
     "type":"CODE",
     "hide_input_from_viewers":false,
     "hide_output_from_viewers":false
    }
   }
  },
  {
   "cell_type":"code",
   "source":[
    "#2\n",
    "a = int(input(\"Введіть тризначне число:\"))\n",
    "if a < 100:\n",
    "    print(\"Введено невірні дані\")\n",
    "elif a > 999:\n",
    "    print(\"Введено невірні дані\")\n",
    "else:\n",
    "    third = a%10\n",
    "    second = a%100\/\/10\n",
    "    first = a\/\/100\n",
    "    result1 = first + second + third\n",
    "    result2 = first * second * third\n",
    "    print(\"Сума =\", result1)\n",
    "    print(\"Добуток =\", result2)"
   ],
   "execution_count":54,
   "outputs":[
    {
     "name":"stdout",
     "text":[
      "Введіть тризначне число: 365\n",
      "Сума = 14\n",
      "Добуток = 90\n"
     ],
     "output_type":"stream"
    }
   ],
   "metadata":{
    "datalore":{
     "node_id":"F7P1t0U4daFq2oqd4aa0bL",
     "type":"CODE",
     "hide_input_from_viewers":false,
     "hide_output_from_viewers":false
    }
   }
  },
  {
   "cell_type":"code",
   "source":[
    "#3\n",
    "import math\n",
    "a = float(input(\"Введіть довжину першого катета:\"))\n",
    "if a > 0:\n",
    "    b = float(input(\"Введіть довжину другого катета:\"))\n",
    "    if b > 0:\n",
    "        c = math.sqrt(math.pow(a, 2) + math.pow(b, 2))\n",
    "        print(\"Довжина гіпотенузи =\", c)\n",
    "    else:\n",
    "        print(\"Введено невірні дані\")\n",
    "else:    \n",
    "    print(\"Введено невірні дані\")"
   ],
   "execution_count":35,
   "outputs":[
    {
     "name":"stdout",
     "text":[
      "Введіть довжину першого катета 3\n",
      "Введіть довжину другого катета 4\n",
      "Довжина гіпотенузи = 5.0\n"
     ],
     "output_type":"stream"
    }
   ],
   "metadata":{
    "datalore":{
     "node_id":"x0fQL1ZhpWqCMNZ4tXSCqA",
     "type":"CODE",
     "hide_input_from_viewers":false,
     "hide_output_from_viewers":false
    }
   }
  },
  {
   "cell_type":"code",
   "source":[
    "#4\n",
    "n = int(input(\"Введіть розмір кредиту:\"))\n",
    "if n > 0:\n",
    "    y = int(input(\"Введіть кількість років виплати кредиту:\"))\n",
    "    if y > 0:\n",
    "        p = int(input(\"Введіть відсоткову ставку кредиту:\")) \n",
    "        if p > 0:\n",
    "            s = n * math.pow((1 + p\/100), y)\n",
    "            m = (s - n)\/(n * 12)\n",
    "            print(\"Сумарна виплата по кредиту =\", s)\n",
    "            print(\"Щомісячна виплата по кредиту =\", m)\n",
    "        else:\n",
    "            print(\"Введено невірні дані\")\n",
    "    else:\n",
    "        print(\"Введено невірні дані\")\n",
    "else:\n",
    "    print(\"Введено невірні дані\")"
   ],
   "execution_count":68,
   "outputs":[
    {
     "name":"stdout",
     "text":[
      "Введіть розмір кредиту: 1\n",
      "Введіть кількість років виплати кредиту: 1\n",
      "Введіть відсоткову ставку кредиту: -1\n",
      "Введено невірні дані\n"
     ],
     "output_type":"stream"
    }
   ],
   "metadata":{
    "datalore":{
     "node_id":"8RdH5COq8saQ3cdN78iOO5",
     "type":"CODE",
     "hide_input_from_viewers":false,
     "hide_output_from_viewers":false
    }
   }
  },
  {
   "cell_type":"code",
   "source":[
    "#5\n",
    "first_letter = str(input(\"Введіть першу букву (англійською):\")).lower()\n",
    "a = ord(first_letter)\n",
    "if a < 97:\n",
    "    print(\"Введено невірні дані\")\n",
    "elif a > 122:\n",
    "    print(\"Введено невірні дані\")\n",
    "else:\n",
    "    second_letter = str(input(\"Введіть другу букву (англійською):\")).lower()\n",
    "    b = ord(second_letter)\n",
    "    if b < 97:\n",
    "        print(\"Введено невірні дані\")\n",
    "    elif b > 122:\n",
    "        print(\"Введено невірні дані\")\n",
    "    else:\n",
    "        print(\"Місце в алфавіті першої букви:\", a - 96)\n",
    "        print(\"Місце в алфавіті другої букви:\", b - 96)\n",
    "        print(\"Кількість букв між заданими:\", abs(a - b) - 1)\n",
    "        "
   ],
   "execution_count":78,
   "outputs":[
    {
     "name":"stdout",
     "text":[
      "Введіть першу букву (англійською): a\n",
      "Введіть другу букву (англійською): ф\n",
      "Введено невірні дані\n"
     ],
     "output_type":"stream"
    }
   ],
   "metadata":{
    "datalore":{
     "node_id":"pf8YWJojpz9OXqtG9yIbqO",
     "type":"CODE",
     "hide_input_from_viewers":false,
     "hide_output_from_viewers":false
    }
   }
  }
 ],
 "metadata":{
  "kernelspec":{
   "display_name":"Python",
   "language":"python",
   "name":"python"
  },
  "datalore":{
   "version":1,
   "computation_mode":"JUPYTER",
   "package_manager":"pip",
   "base_environment":"default",
   "packages":[
    
   ]
  }
 },
 "nbformat":4,
 "nbformat_minor":4
}