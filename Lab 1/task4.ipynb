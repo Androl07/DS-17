{
 "cells":[
  {
   "cell_type":"markdown",
   "source":[
    "Here is the sample mean:\n",
    "<div align=\"right\">$\\bar{y}=\\frac{1}{n}\\displaystyle\\sum_{i=1}^{n} y_i$<\/div>\n",
    "<br\/>\n",
    "Here is the sample variance:\n",
    "<div align=\"right\">$σ^{2}=\\frac{\\displaystyle\\sum_{i=1}^{n} (y_i -\\bar{y})^{2}}{n-1}$<\/div>\n",
    "<br\/>\n",
    "Here is the sample standart deviation:\n",
    "<div align=\"right\">$σ=\\sqrt{\\frac{\\displaystyle\\sum_{i=1}^{n} (y_i -\\bar{y})^{2}}{n-1}}$<\/div>"
   ],
   "attachments":{
    
   },
   "metadata":{
    "datalore":{
     "node_id":"qzWHTrNGruWiYzOQzCxWqU",
     "type":"MD",
     "hide_input_from_viewers":false,
     "hide_output_from_viewers":false
    }
   }
  }
 ],
 "metadata":{
  "kernelspec":{
   "display_name":"Python",
   "language":"python",
   "name":"python"
  },
  "datalore":{
   "version":1,
   "computation_mode":"JUPYTER",
   "package_manager":"pip",
   "base_environment":"default",
   "packages":[
    
   ]
  }
 },
 "nbformat":4,
 "nbformat_minor":4
}