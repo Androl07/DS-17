{
 "cells":[
  {
   "cell_type":"markdown",
   "source":[
    "# **1. Markdown cells**\n",
    "* Hi! Its Main Academy?\n",
    "* All HTML tabs are supported!\n",
    "* Моя сторінка на лінкедін. [Лінкедін](https:\/\/www.linkedin.com\/in\/andrew-taranenko-01459a215\/)\n",
    "<br\/>\n",
    "<br\/>\n",
    "<br\/>\n",
    "<br\/>\n",
    "# This is Heading1\n",
    "\n",
    "## This is Heading2\n",
    "\n",
    "some gray colored text:\n",
    "\n",
    ">This is where we can bring quotes and present them nicely  \n",
    "<br\/>\n",
    "\n",
    "And this is paragraph about something very important. Even math:\n",
    "<div align=\"right\">$y_{sub}$ = $\\sqrt{(x_{sub})}$<\/div>\n",
    "<br\/>\n",
    "<br\/>\n",
    "Or python code example:\n",
    "<br\/>\n",
    "<br\/>\n",
    "&nbsp;&nbsp;&nbsp;&nbsp;&nbsp;&nbsp;&nbsp; import math<br\/> \n",
    "&nbsp;&nbsp;&nbsp;&nbsp;&nbsp;&nbsp;&nbsp; def foo():<br\/>\n",
    "&nbsp;&nbsp;&nbsp;&nbsp;&nbsp;&nbsp;&nbsp;&nbsp;&nbsp;&nbsp;&nbsp;&nbsp;&nbsp;&nbsp;return \"foo\""
   ],
   "attachments":{
    
   },
   "metadata":{
    "datalore":{
     "node_id":"GCNUL7WNtwIq1hyuVbwpYS",
     "type":"MD",
     "hide_input_from_viewers":false,
     "hide_output_from_viewers":false
    }
   }
  }
 ],
 "metadata":{
  "kernelspec":{
   "display_name":"Python",
   "language":"python",
   "name":"python"
  },
  "datalore":{
   "version":1,
   "computation_mode":"JUPYTER",
   "package_manager":"pip",
   "base_environment":"default",
   "packages":[
    
   ]
  }
 },
 "nbformat":4,
 "nbformat_minor":4
}