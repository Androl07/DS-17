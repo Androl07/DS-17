{
 "cells":[
  {
   "cell_type":"code",
   "source":[
    "#1\n",
    "a = int(input(\"Введіть довжину сторони:\"))\n",
    "if a > 0:\n",
    "    h = int(input(\"Введіть довжину висоти, проведеної до цієї сторони\"))\n",
    "    if h > 0:\n",
    "        s = a*h*0.5\n",
    "        print(\"Площа трикутника =\", s)\n",
    "    else:\n",
    "        print(\"Введено невірні дані\")\n",
    "else:    \n",
    "    print(\"Введено невірні дані\")"
   ],
   "execution_count":5,
   "outputs":[
    {
     "name":"stdout",
     "text":[
      "Введіть довжину сторони: 4\n",
      "Введіть довжину висоти, проведеної до цієї сторони 5\n",
      "Площа трикутника = 10.0\n"
     ],
     "output_type":"stream"
    }
   ],
   "metadata":{
    "datalore":{
     "node_id":"hF0m6U26sPmf6VAU6R8sMT",
     "type":"CODE",
     "hide_input_from_viewers":false,
     "hide_output_from_viewers":false
    }
   }
  },
  {
   "cell_type":"code",
   "source":[
    "#2.1\n",
    "N = input(\"Введіть тризначне число:\")\n",
    "N = int(N)\n",
    "if N < 100:\n",
    "    print(\"Введено невірні дані\")\n",
    "elif N > 999:\n",
    "    print(\"Введено невірні дані\")\n",
    "else:\n",
    "    third = N%10\n",
    "    second = N%100\/\/10\n",
    "    first = N\/\/100\n",
    "    print(\"Перша цифра:\", first)\n",
    "    print(\"Друга цифра:\", second)\n",
    "    print(\"Третя цифра:\", third)"
   ],
   "execution_count":22,
   "outputs":[
    {
     "name":"stdout",
     "text":[
      "Введіть тризначне число: 516\n",
      "Перша цифра: 5\n",
      "Друга цифра: 1\n",
      "Третя цифра: 6\n"
     ],
     "output_type":"stream"
    }
   ],
   "metadata":{
    "datalore":{
     "node_id":"jQpvR4qgnWTEFnkl1Df4V5",
     "type":"CODE",
     "hide_input_from_viewers":false,
     "hide_output_from_viewers":false
    }
   }
  },
  {
   "cell_type":"code",
   "source":[
    "#2.2\n",
    "N = int(input(\"Введіть тризначне число:\"))\n",
    "if N < 100:\n",
    "    print(\"Введено невірні дані\")\n",
    "elif N > 999:\n",
    "    print(\"Введено невірні дані\")\n",
    "else:\n",
    "    third = N%10\n",
    "    second = N%100\/\/10\n",
    "    first = N\/\/100\n",
    "    print(\"Перша цифра:\", first)\n",
    "    print(\"Друга цифра:\", second)\n",
    "    print(\"Третя цифра:\", third)"
   ],
   "execution_count":23,
   "outputs":[
    {
     "name":"stdout",
     "text":[
      "Введіть тризначне число: 834\n",
      "Перша цифра: 8\n",
      "Друга цифра: 3\n",
      "Третя цифра: 4\n"
     ],
     "output_type":"stream"
    }
   ],
   "metadata":{
    "datalore":{
     "node_id":"f0n7PzHJB7n5YKvuEITpH8",
     "type":"CODE",
     "hide_input_from_viewers":false,
     "hide_output_from_viewers":false
    }
   }
  },
  {
   "cell_type":"code",
   "source":[
    "#3\n",
    "sentence = 'My favourite tutor in academy is Ihor'\n",
    "list1 = sentence.split()\n",
    "print(\"Новий список:\", list1)\n",
    "print(\"Кількість слів у реченні:\", len(list1), \"слів\")\n",
    "list2 =(list1[0], list1[len(list1) - 1])\n",
    "print(\"Нове речення:\", list2[0], list2[1])"
   ],
   "execution_count":74,
   "outputs":[
    {
     "name":"stdout",
     "text":[
      "Новий список: ['My', 'favourite', 'tutor', 'in', 'academy', 'is', 'Ihor']\n",
      "Кількість слів у реченні: 7 слів\n",
      "Нове речення: My Ihor\n"
     ],
     "output_type":"stream"
    }
   ],
   "metadata":{
    "datalore":{
     "node_id":"xGVMHzdCSIhYfMihqTLXzF",
     "type":"CODE",
     "hide_input_from_viewers":false,
     "hide_output_from_viewers":false
    }
   }
  },
  {
   "cell_type":"code",
   "source":[
    "#4\n",
    "import math\n",
    "x = int(input(\"Введіть значення х:\"))\n",
    "x = math.radians(x)\n",
    "if math.sin(x)**2 + math.cos(x)**2 == 1:\n",
    "    print(\"Формула справджується\")\n",
    "else:\n",
    "    print(\"Ти зробив щось не так\")"
   ],
   "execution_count":1,
   "outputs":[
    {
     "name":"stdout",
     "text":[
      "Введіть значення х: 246\n",
      "Формула справджується\n"
     ],
     "output_type":"stream"
    }
   ],
   "metadata":{
    "datalore":{
     "node_id":"ZpN68w0hR9f9LmKuHeRG3Q",
     "type":"CODE",
     "hide_input_from_viewers":false,
     "hide_output_from_viewers":false
    }
   }
  },
  {
   "cell_type":"code",
   "source":[
    "#5\n",
    "import cmath\n",
    "a = int(input(\"Введіть коефіцієнт А:\"))\n",
    "b = int(input(\"Введіть коефіцієнт В:\"))\n",
    "c = int(input(\"Введіть коефіцієнт С:\"))\n",
    "d = math.pow(b, 2) - 4*a*c\n",
    "print(\"Дискримінант:\", d)\n",
    "if d > 0:\n",
    "    x1 = round((-b + math.sqrt(d))\/(2*a), 2)\n",
    "    x2 = round((-b - math.sqrt(d))\/(2*a), 2)\n",
    "    print(\"Перший корінь рівняння:\", x1)\n",
    "    print(\"Другий корінь рівняння:\", x2)\n",
    "elif d == 0:\n",
    "    x0 = round(-b\/(2*a), 2)\n",
    "    print(\"Корінь рівняння:\", x0)\n",
    "else:\n",
    "    x1i = complex((-b + cmath.sqrt(d))\/(2*a))\n",
    "    x2i = complex((-b - cmath.sqrt(d))\/(2*a))\n",
    "    print(\"Перший корінь рівняння:\", x1i)\n",
    "    print(\"Другий корінь рівняння:\", x2i)"
   ],
   "execution_count":60,
   "outputs":[
    {
     "name":"stdout",
     "text":[
      "Введіть коефіцієнт А: 5\n",
      "Введіть коефіцієнт В: 6\n",
      "Введіть коефіцієнт С: 5\n",
      "Дискримінант: -64.0\n",
      "Перший корінь рівняння: (-0.6+0.8j)\n",
      "Другий корінь рівняння: (-0.6-0.8j)\n"
     ],
     "output_type":"stream"
    }
   ],
   "metadata":{
    "datalore":{
     "node_id":"dYWU4iaM81GkIqreSM978Q",
     "type":"CODE",
     "hide_input_from_viewers":false,
     "hide_output_from_viewers":false
    }
   }
  },
  {
   "cell_type":"code",
   "source":[
    "#6\n",
    "Planet = str(input(\"Введіть назву планети:\"))\n",
    "Diament = float(input(\"Введіть діаметр планети:\"))\n",
    "print(\"Діаметр планети\", Planet, \"дорівнює\", Diament, \"км\")"
   ],
   "execution_count":64,
   "outputs":[
    {
     "name":"stdout",
     "text":[
      "Введіть назву планети: Сатурн\n",
      "Введіть діаметр планети: 116460\n",
      "Діаметр планети Сатурн дорівнює 116460.0 км\n"
     ],
     "output_type":"stream"
    }
   ],
   "metadata":{
    "datalore":{
     "node_id":"uug45BE2uAjKFUERGj1mrb",
     "type":"CODE",
     "hide_input_from_viewers":false,
     "hide_output_from_viewers":false
    }
   }
  }
 ],
 "metadata":{
  "kernelspec":{
   "display_name":"Python",
   "language":"python",
   "name":"python"
  },
  "datalore":{
   "version":1,
   "computation_mode":"JUPYTER",
   "package_manager":"pip",
   "base_environment":"default",
   "packages":[
    
   ]
  }
 },
 "nbformat":4,
 "nbformat_minor":4
}